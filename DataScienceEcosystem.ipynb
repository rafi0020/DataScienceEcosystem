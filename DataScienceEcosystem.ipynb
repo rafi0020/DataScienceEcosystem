{
 "cells": [
  {
   "cell_type": "markdown",
   "id": "51d0e848-607f-4df1-a861-82a8b911d8bd",
   "metadata": {},
   "source": [
    "# Data Science Tools and Ecosystem"
   ]
  },
  {
   "cell_type": "markdown",
   "id": "81f9f412-10e3-4fd6-80bd-0b7583b431d0",
   "metadata": {},
   "source": [
    "In this notebook, Data Science Tools and Ecosystem are summarized."
   ]
  },
  {
   "cell_type": "markdown",
   "id": "a29af936-6f74-42c7-b392-73574b521343",
   "metadata": {},
   "source": [
    "Some of the popular languages that Data Scientists use are:\n",
    "\n",
    "1. Python\n",
    "2. R\n",
    "3. SQL"
   ]
  },
  {
   "cell_type": "markdown",
   "id": "283bfa71-0703-4b10-850d-07c10c15aeb5",
   "metadata": {},
   "source": [
    "Some of the commonly used libraries used by Data Scientists include:\n",
    "\n",
    "1. Pandas (Python)\n",
    "2. NumPy (Python)\n",
    "3. ggplot2 (R)"
   ]
  },
  {
   "cell_type": "markdown",
   "id": "73b31b85-70ed-4e59-8eaa-22ff53c560b3",
   "metadata": {},
   "source": [
    "| Data Science Tools |\n",
    "| -------------|\n",
    "| Jupyter Notebooks |\n",
    "| RStudio |\n",
    "| Git / GitHub |"
   ]
  },
  {
   "cell_type": "markdown",
   "id": "2536f33e-5fc4-4a0e-8d11-3a737996847e",
   "metadata": {},
   "source": [
    "### Below are a few examples of evaluating arithmetic expressions in Python"
   ]
  },
  {
   "cell_type": "code",
   "execution_count": 1,
   "id": "cd7aca61-06ee-4f6b-99af-e89b93f0fe62",
   "metadata": {
    "tags": []
   },
   "outputs": [
    {
     "data": {
      "text/plain": [
       "17"
      ]
     },
     "execution_count": 1,
     "metadata": {},
     "output_type": "execute_result"
    }
   ],
   "source": [
    "# This a simple arithmetic expression to mutiply then add integers\n",
    "(3*4)+5"
   ]
  },
  {
   "cell_type": "code",
   "execution_count": 2,
   "id": "8797eba8-b783-4ed0-a45b-32a6143823ec",
   "metadata": {
    "tags": []
   },
   "outputs": [
    {
     "data": {
      "text/plain": [
       "3.3333333333333335"
      ]
     },
     "execution_count": 2,
     "metadata": {},
     "output_type": "execute_result"
    }
   ],
   "source": [
    "# This will convert 200 minutes to hours by dividing by 60\n",
    "200 / 60"
   ]
  },
  {
   "cell_type": "markdown",
   "id": "53a49084-4d28-4c9b-a785-5253328eab9e",
   "metadata": {},
   "source": [
    "**Objectives:**\n",
    "\n",
    "* List popular languages for Data Science\n",
    "* List commonly used libraries used by Data Scientists\n",
    "* Create a table of Data Science tools\n",
    "* Evaluate simple arithmetic expressions in Python\n",
    "* Convert minutes to hours using Python"
   ]
  },
  {
   "cell_type": "markdown",
   "id": "7bd6f7c7-d0bb-46fc-b101-6238b20ba8e9",
   "metadata": {},
   "source": [
    "## Author\n",
    "\n",
    "Rafiul Islam"
   ]
  },
  {
   "cell_type": "code",
   "execution_count": null,
   "id": "c9c254e6-5cc2-40f3-9c23-892521af18da",
   "metadata": {},
   "outputs": [],
   "source": []
  }
 ],
 "metadata": {
  "kernelspec": {
   "display_name": "Python",
   "language": "python",
   "name": "conda-env-python-py"
  },
  "language_info": {
   "codemirror_mode": {
    "name": "ipython",
    "version": 3
   },
   "file_extension": ".py",
   "mimetype": "text/x-python",
   "name": "python",
   "nbconvert_exporter": "python",
   "pygments_lexer": "ipython3",
   "version": "3.7.12"
  }
 },
 "nbformat": 4,
 "nbformat_minor": 5
}
